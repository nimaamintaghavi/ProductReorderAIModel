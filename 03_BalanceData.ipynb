{
 "cells": [
  {
   "cell_type": "markdown",
   "metadata": {},
   "source": [
    "## Load Required Library"
   ]
  },
  {
   "cell_type": "code",
   "execution_count": 1,
   "metadata": {},
   "outputs": [
    {
     "name": "stdout",
     "output_type": "stream",
     "text": [
      "/opt/conda/lib/python3.7/site-packages/secretstorage/dhcrypto.py:16: CryptographyDeprecationWarning: int_from_bytes is deprecated, use int.from_bytes instead\n",
      "  from cryptography.utils import int_from_bytes\n",
      "/opt/conda/lib/python3.7/site-packages/secretstorage/util.py:25: CryptographyDeprecationWarning: int_from_bytes is deprecated, use int.from_bytes instead\n",
      "  from cryptography.utils import int_from_bytes\n",
      "Requirement already satisfied: awswrangler in /opt/conda/lib/python3.7/site-packages (2.15.1)\n",
      "Requirement already satisfied: pyarrow<7.1.0,>=2.0.0 in /opt/conda/lib/python3.7/site-packages (from awswrangler) (6.0.1)\n",
      "Requirement already satisfied: pandas<2.0.0,>=1.2.0 in /opt/conda/lib/python3.7/site-packages (from awswrangler) (1.3.5)\n",
      "Requirement already satisfied: backoff<2.0.0,>=1.11.1 in /opt/conda/lib/python3.7/site-packages (from awswrangler) (1.11.1)\n",
      "Requirement already satisfied: numpy<2.0.0,>=1.21.0 in /opt/conda/lib/python3.7/site-packages (from awswrangler) (1.21.6)\n",
      "Requirement already satisfied: openpyxl<3.1.0,>=3.0.0 in /opt/conda/lib/python3.7/site-packages (from awswrangler) (3.0.3)\n",
      "Requirement already satisfied: progressbar2<5.0.0,>=4.0.0 in /opt/conda/lib/python3.7/site-packages (from awswrangler) (4.0.0)\n",
      "Requirement already satisfied: pg8000<2.0.0,>=1.20.0 in /opt/conda/lib/python3.7/site-packages (from awswrangler) (1.26.0)\n",
      "Requirement already satisfied: opensearch-py<2.0.0,>=1.0.0 in /opt/conda/lib/python3.7/site-packages (from awswrangler) (1.1.0)\n",
      "Requirement already satisfied: pymysql<2.0.0,>=1.0.0 in /opt/conda/lib/python3.7/site-packages (from awswrangler) (1.0.2)\n",
      "Requirement already satisfied: requests-aws4auth<2.0.0,>=1.1.1 in /opt/conda/lib/python3.7/site-packages (from awswrangler) (1.1.2)\n",
      "Requirement already satisfied: boto3<2.0.0,>=1.20.17 in /opt/conda/lib/python3.7/site-packages (from awswrangler) (1.20.23)\n",
      "Requirement already satisfied: jsonpath-ng<2.0.0,>=1.5.3 in /opt/conda/lib/python3.7/site-packages (from awswrangler) (1.5.3)\n",
      "Requirement already satisfied: gremlinpython<4.0.0,>=3.5.2 in /opt/conda/lib/python3.7/site-packages (from awswrangler) (3.6.0)\n",
      "Requirement already satisfied: botocore<2.0.0,>=1.23.17 in /opt/conda/lib/python3.7/site-packages (from awswrangler) (1.23.23)\n",
      "Requirement already satisfied: redshift-connector<2.1.0,>=2.0.889 in /opt/conda/lib/python3.7/site-packages (from awswrangler) (2.0.906)\n",
      "Requirement already satisfied: jmespath<1.0.0,>=0.7.1 in /opt/conda/lib/python3.7/site-packages (from boto3<2.0.0,>=1.20.17->awswrangler) (0.10.0)\n",
      "Requirement already satisfied: s3transfer<0.6.0,>=0.5.0 in /opt/conda/lib/python3.7/site-packages (from boto3<2.0.0,>=1.20.17->awswrangler) (0.5.0)\n",
      "Requirement already satisfied: python-dateutil<3.0.0,>=2.1 in /opt/conda/lib/python3.7/site-packages (from botocore<2.0.0,>=1.23.17->awswrangler) (2.8.1)\n",
      "Requirement already satisfied: urllib3<1.27,>=1.25.4 in /opt/conda/lib/python3.7/site-packages (from botocore<2.0.0,>=1.23.17->awswrangler) (1.26.7)\n",
      "Requirement already satisfied: isodate<1.0.0,>=0.6.0 in /opt/conda/lib/python3.7/site-packages (from gremlinpython<4.0.0,>=3.5.2->awswrangler) (0.6.1)\n",
      "Requirement already satisfied: aenum<4.0.0,>=1.4.5 in /opt/conda/lib/python3.7/site-packages (from gremlinpython<4.0.0,>=3.5.2->awswrangler) (3.1.11)\n",
      "Requirement already satisfied: aiohttp<=3.8.1,>=3.8.0 in /opt/conda/lib/python3.7/site-packages (from gremlinpython<4.0.0,>=3.5.2->awswrangler) (3.8.1)\n",
      "Requirement already satisfied: nest-asyncio in /opt/conda/lib/python3.7/site-packages (from gremlinpython<4.0.0,>=3.5.2->awswrangler) (1.5.4)\n",
      "Requirement already satisfied: ply in /opt/conda/lib/python3.7/site-packages (from jsonpath-ng<2.0.0,>=1.5.3->awswrangler) (3.11)\n",
      "Requirement already satisfied: six in /opt/conda/lib/python3.7/site-packages (from jsonpath-ng<2.0.0,>=1.5.3->awswrangler) (1.14.0)\n",
      "Requirement already satisfied: decorator in /opt/conda/lib/python3.7/site-packages (from jsonpath-ng<2.0.0,>=1.5.3->awswrangler) (4.4.1)\n",
      "Requirement already satisfied: jdcal in /opt/conda/lib/python3.7/site-packages (from openpyxl<3.1.0,>=3.0.0->awswrangler) (1.4.1)\n",
      "Requirement already satisfied: et-xmlfile in /opt/conda/lib/python3.7/site-packages (from openpyxl<3.1.0,>=3.0.0->awswrangler) (1.0.1)\n",
      "Requirement already satisfied: certifi in /opt/conda/lib/python3.7/site-packages (from opensearch-py<2.0.0,>=1.0.0->awswrangler) (2021.10.8)\n",
      "Requirement already satisfied: pytz>=2017.3 in /opt/conda/lib/python3.7/site-packages (from pandas<2.0.0,>=1.2.0->awswrangler) (2022.1)\n",
      "Requirement already satisfied: scramp>=1.4.1 in /opt/conda/lib/python3.7/site-packages (from pg8000<2.0.0,>=1.20.0->awswrangler) (1.4.1)\n",
      "Requirement already satisfied: python-utils>=3.0.0 in /opt/conda/lib/python3.7/site-packages (from progressbar2<5.0.0,>=4.0.0->awswrangler) (3.1.0)\n",
      "Requirement already satisfied: lxml>=4.6.5 in /opt/conda/lib/python3.7/site-packages (from redshift-connector<2.1.0,>=2.0.889->awswrangler) (4.8.0)\n",
      "Requirement already satisfied: requests<2.27.2,>=2.23.0 in /opt/conda/lib/python3.7/site-packages (from redshift-connector<2.1.0,>=2.0.889->awswrangler) (2.26.0)\n",
      "Requirement already satisfied: beautifulsoup4<5.0.0,>=4.7.0 in /opt/conda/lib/python3.7/site-packages (from redshift-connector<2.1.0,>=2.0.889->awswrangler) (4.8.2)\n",
      "Requirement already satisfied: packaging in /opt/conda/lib/python3.7/site-packages (from redshift-connector<2.1.0,>=2.0.889->awswrangler) (20.1)\n",
      "Requirement already satisfied: attrs>=17.3.0 in /opt/conda/lib/python3.7/site-packages (from aiohttp<=3.8.1,>=3.8.0->gremlinpython<4.0.0,>=3.5.2->awswrangler) (19.3.0)\n",
      "Requirement already satisfied: charset-normalizer<3.0,>=2.0 in /opt/conda/lib/python3.7/site-packages (from aiohttp<=3.8.1,>=3.8.0->gremlinpython<4.0.0,>=3.5.2->awswrangler) (2.0.4)\n",
      "Requirement already satisfied: asynctest==0.13.0 in /opt/conda/lib/python3.7/site-packages (from aiohttp<=3.8.1,>=3.8.0->gremlinpython<4.0.0,>=3.5.2->awswrangler) (0.13.0)\n",
      "Requirement already satisfied: async-timeout<5.0,>=4.0.0a3 in /opt/conda/lib/python3.7/site-packages (from aiohttp<=3.8.1,>=3.8.0->gremlinpython<4.0.0,>=3.5.2->awswrangler) (4.0.1)\n",
      "Requirement already satisfied: yarl<2.0,>=1.0 in /opt/conda/lib/python3.7/site-packages (from aiohttp<=3.8.1,>=3.8.0->gremlinpython<4.0.0,>=3.5.2->awswrangler) (1.7.2)\n",
      "Requirement already satisfied: multidict<7.0,>=4.5 in /opt/conda/lib/python3.7/site-packages (from aiohttp<=3.8.1,>=3.8.0->gremlinpython<4.0.0,>=3.5.2->awswrangler) (5.2.0)\n",
      "Requirement already satisfied: frozenlist>=1.1.1 in /opt/conda/lib/python3.7/site-packages (from aiohttp<=3.8.1,>=3.8.0->gremlinpython<4.0.0,>=3.5.2->awswrangler) (1.2.0)\n",
      "Requirement already satisfied: typing-extensions>=3.7.4 in /opt/conda/lib/python3.7/site-packages (from aiohttp<=3.8.1,>=3.8.0->gremlinpython<4.0.0,>=3.5.2->awswrangler) (4.0.1)\n",
      "Requirement already satisfied: aiosignal>=1.1.2 in /opt/conda/lib/python3.7/site-packages (from aiohttp<=3.8.1,>=3.8.0->gremlinpython<4.0.0,>=3.5.2->awswrangler) (1.2.0)\n",
      "Requirement already satisfied: soupsieve>=1.2 in /opt/conda/lib/python3.7/site-packages (from beautifulsoup4<5.0.0,>=4.7.0->redshift-connector<2.1.0,>=2.0.889->awswrangler) (1.9.5)\n",
      "Requirement already satisfied: idna<4,>=2.5 in /opt/conda/lib/python3.7/site-packages (from requests<2.27.2,>=2.23.0->redshift-connector<2.1.0,>=2.0.889->awswrangler) (2.8)\n",
      "Requirement already satisfied: asn1crypto>=1.4.0 in /opt/conda/lib/python3.7/site-packages (from scramp>=1.4.1->pg8000<2.0.0,>=1.20.0->awswrangler) (1.5.1)\n",
      "Requirement already satisfied: pyparsing>=2.0.2 in /opt/conda/lib/python3.7/site-packages (from packaging->redshift-connector<2.1.0,>=2.0.889->awswrangler) (2.4.6)\n",
      "\u001b[33mWARNING: Running pip as the 'root' user can result in broken permissions and conflicting behaviour with the system package manager. It is recommended to use a virtual environment instead: https://pip.pypa.io/warnings/venv\u001b[0m\n",
      "\u001b[33mWARNING: You are using pip version 21.3.1; however, version 22.0.4 is available.\n",
      "You should consider upgrading via the '/opt/conda/bin/python -m pip install --upgrade pip' command.\u001b[0m\n",
      "2.15.1\n"
     ]
    }
   ],
   "source": [
    "!pip install awswrangler\n",
    "import awswrangler\n",
    "print(awswrangler.__version__)"
   ]
  },
  {
   "cell_type": "code",
   "execution_count": 2,
   "metadata": {},
   "outputs": [],
   "source": [
    "# Create connection to the staging directory.\n",
    "import boto3\n",
    "import sagemaker\n",
    "import pandas as pd\n",
    "from matplotlib import pyplot as plt\n",
    "import seaborn as sns\n",
    "try:\n",
    "    import awswrangler as wr   \n",
    "except:\n",
    "    !pip install awswrangler\n",
    "    import awswrangler as wr  \n",
    "    \n",
    "try:\n",
    "    from pyathena import connect\n",
    "except:\n",
    "    !pip install --disable-pip-version-check -q PyAthena==2.1.0\n",
    "    from pyathena import connect\n",
    "\n",
    "sess = sagemaker.Session()\n",
    "bucket = sess.default_bucket()\n",
    "role = sagemaker.get_execution_role()\n",
    "region = boto3.Session().region_name\n",
    "\n",
    "bucket = 'ads508team7'\n",
    "raw_file_dir   = f\"s3://{bucket}/raw_files\"\n",
    "s3_staging_dir = f\"s3://{bucket}/athena/staging\"\n",
    "split_dir      = f\"s3://{bucket}/split\"\n",
    "database_name  = 'sys'\n",
    "conn = connect(region_name=region, s3_staging_dir=s3_staging_dir)"
   ]
  },
  {
   "cell_type": "markdown",
   "metadata": {},
   "source": [
    "## Load each csv file"
   ]
  },
  {
   "cell_type": "code",
   "execution_count": 3,
   "metadata": {},
   "outputs": [],
   "source": [
    "tr          = wr.s3.read_csv('{raw_file_dir}/{file_name}/{file_name}.csv'.format(raw_file_dir=raw_file_dir, file_name='order_products__train'))\n",
    "pr          = wr.s3.read_csv('{raw_file_dir}/{file_name}/{file_name}.csv'.format(raw_file_dir=raw_file_dir, file_name='order_products__prior'))\n",
    "orders      = wr.s3.read_csv('{raw_file_dir}/{file_name}/{file_name}.csv'.format(raw_file_dir=raw_file_dir, file_name='orders')) \n",
    "products    = wr.s3.read_csv('{raw_file_dir}/{file_name}/{file_name}.csv'.format(raw_file_dir=raw_file_dir, file_name='products')) \n",
    "departments = wr.s3.read_csv('{raw_file_dir}/{file_name}/{file_name}.csv'.format(raw_file_dir=raw_file_dir, file_name='departments')) \n",
    "pr_tr       = pd.concat([tr, pr])"
   ]
  },
  {
   "cell_type": "code",
   "execution_count": 4,
   "metadata": {},
   "outputs": [],
   "source": [
    "# 80% of the data will be reserved for the trainset while 10% of the data will be reserved each for validation and testing, respectively. \n",
    "df_train     = pr_tr.sample(frac = 0.8, random_state=1)\n",
    "df_remaining = pr_tr.loc[~pr_tr.index.isin(df_train.index)]\n",
    "df_test      = df_remaining.sample(frac = 0.5, random_state=1)\n",
    "df_validate  = df_remaining.loc[~df_remaining.index.isin(df_test.index)]"
   ]
  },
  {
   "cell_type": "code",
   "execution_count": 5,
   "metadata": {},
   "outputs": [
    {
     "name": "stdout",
     "output_type": "stream",
     "text": [
      "Total of 33,819,106 number records were present.\n",
      "df_train has 27,055,285 (80%)number of records.\n",
      "df_test has 3,160,472 (9%)number of records.\n",
      "df_validate has 3,132,715 (9%) number of records.\n"
     ]
    }
   ],
   "source": [
    "print('Total of {:,} number records were present.'.format(len(pr_tr)))\n",
    "print('df_train has {:,} ({:.0%})number of records.'.format(len(df_train),len(df_train)/len(pr_tr)))\n",
    "print('df_test has {:,} ({:.0%})number of records.'.format(len(df_test),len(df_test)/len(pr_tr)))\n",
    "print('df_validate has {:,} ({:.0%}) number of records.'.format(len(df_validate),len(df_validate)/len(pr_tr)))\n",
    "del pr_tr"
   ]
  },
  {
   "cell_type": "code",
   "execution_count": 6,
   "metadata": {},
   "outputs": [
    {
     "name": "stdout",
     "output_type": "stream",
     "text": [
      "File saved in:  s3://ads508team7/unbalance/unbalance.csv\n",
      "File saved in:  s3://ads508team7/split/test/test.csv\n",
      "File saved in:  s3://ads508team7/split/validate/validate.csv\n"
     ]
    }
   ],
   "source": [
    "def add_department_name(df, save_to_path):\n",
    "    \n",
    "    df = df.join(products[['product_id','department_id']].set_index('product_id'), on='product_id')\n",
    "    df = df.join(departments.set_index('department_id'), on='department_id')\n",
    "    df.drop(['department_id'], axis = 1, inplace = True)     \n",
    "    wr.s3.to_csv(df, save_to_path, index = False)\n",
    "    print('File saved in: ',save_to_path)\n",
    "\n",
    "save_to_path = 's3://{bucket}/{file_name}/{file_name}.csv'.format(bucket= bucket, split_dir=split_dir, file_name='unbalance')\n",
    "add_department_name(df_train,save_to_path)\n",
    "\n",
    "save_to_path = '{split_dir}/{file_name}/{file_name}.csv'.format(split_dir=split_dir, file_name='test')\n",
    "add_department_name(df_test,save_to_path)\n",
    "\n",
    "save_to_path = '{split_dir}/{file_name}/{file_name}.csv'.format(split_dir=split_dir, file_name='validate')\n",
    "add_department_name(df_validate,save_to_path)"
   ]
  },
  {
   "cell_type": "markdown",
   "metadata": {},
   "source": [
    "Setup a dataframe that will be balanced train set"
   ]
  },
  {
   "cell_type": "code",
   "execution_count": 7,
   "metadata": {},
   "outputs": [
    {
     "name": "stdout",
     "output_type": "stream",
     "text": [
      "(27055285, 5)\n"
     ]
    },
    {
     "data": {
      "text/html": [
       "<div>\n",
       "<style scoped>\n",
       "    .dataframe tbody tr th:only-of-type {\n",
       "        vertical-align: middle;\n",
       "    }\n",
       "\n",
       "    .dataframe tbody tr th {\n",
       "        vertical-align: top;\n",
       "    }\n",
       "\n",
       "    .dataframe thead th {\n",
       "        text-align: right;\n",
       "    }\n",
       "</style>\n",
       "<table border=\"1\" class=\"dataframe\">\n",
       "  <thead>\n",
       "    <tr style=\"text-align: right;\">\n",
       "      <th></th>\n",
       "      <th>order_id</th>\n",
       "      <th>product_id</th>\n",
       "      <th>add_to_cart_order</th>\n",
       "      <th>reordered</th>\n",
       "      <th>department</th>\n",
       "    </tr>\n",
       "  </thead>\n",
       "  <tbody>\n",
       "    <tr>\n",
       "      <th>0</th>\n",
       "      <td>460355</td>\n",
       "      <td>32959</td>\n",
       "      <td>25</td>\n",
       "      <td>1</td>\n",
       "      <td>meat seafood</td>\n",
       "    </tr>\n",
       "    <tr>\n",
       "      <th>1</th>\n",
       "      <td>1138671</td>\n",
       "      <td>7503</td>\n",
       "      <td>24</td>\n",
       "      <td>1</td>\n",
       "      <td>snacks</td>\n",
       "    </tr>\n",
       "    <tr>\n",
       "      <th>2</th>\n",
       "      <td>2788052</td>\n",
       "      <td>44471</td>\n",
       "      <td>4</td>\n",
       "      <td>0</td>\n",
       "      <td>babies</td>\n",
       "    </tr>\n",
       "    <tr>\n",
       "      <th>3</th>\n",
       "      <td>1772534</td>\n",
       "      <td>260</td>\n",
       "      <td>3</td>\n",
       "      <td>0</td>\n",
       "      <td>produce</td>\n",
       "    </tr>\n",
       "    <tr>\n",
       "      <th>4</th>\n",
       "      <td>1187180</td>\n",
       "      <td>26209</td>\n",
       "      <td>5</td>\n",
       "      <td>1</td>\n",
       "      <td>produce</td>\n",
       "    </tr>\n",
       "  </tbody>\n",
       "</table>\n",
       "</div>"
      ],
      "text/plain": [
       "   order_id  product_id  add_to_cart_order  reordered    department\n",
       "0    460355       32959                 25          1  meat seafood\n",
       "1   1138671        7503                 24          1        snacks\n",
       "2   2788052       44471                  4          0        babies\n",
       "3   1772534         260                  3          0       produce\n",
       "4   1187180       26209                  5          1       produce"
      ]
     },
     "execution_count": 7,
     "metadata": {},
     "output_type": "execute_result"
    }
   ],
   "source": [
    "unbalance_path = 's3://{bucket}/{file_name}/{file_name}.csv'.format(bucket= bucket, split_dir=split_dir, file_name='unbalance')\n",
    "unbalance      = wr.s3.read_csv(unbalance_path) \n",
    "print(unbalance.shape)\n",
    "unbalance.head()"
   ]
  },
  {
   "cell_type": "markdown",
   "metadata": {},
   "source": [
    "## Get Proportation of Re-ordered Items Per Department"
   ]
  },
  {
   "cell_type": "code",
   "execution_count": 8,
   "metadata": {},
   "outputs": [
    {
     "data": {
      "text/html": [
       "<div>\n",
       "<style scoped>\n",
       "    .dataframe tbody tr th:only-of-type {\n",
       "        vertical-align: middle;\n",
       "    }\n",
       "\n",
       "    .dataframe tbody tr th {\n",
       "        vertical-align: top;\n",
       "    }\n",
       "\n",
       "    .dataframe thead th {\n",
       "        text-align: right;\n",
       "    }\n",
       "</style>\n",
       "<table border=\"1\" class=\"dataframe\">\n",
       "  <thead>\n",
       "    <tr style=\"text-align: right;\">\n",
       "      <th></th>\n",
       "      <th>qty_sold</th>\n",
       "      <th>reordered</th>\n",
       "      <th>not_reordered</th>\n",
       "      <th>reordered_perc</th>\n",
       "      <th>not_reordered_perc</th>\n",
       "    </tr>\n",
       "  </thead>\n",
       "  <tbody>\n",
       "    <tr>\n",
       "      <th>produce</th>\n",
       "      <td>7911891</td>\n",
       "      <td>5146659</td>\n",
       "      <td>2765232</td>\n",
       "      <td>65.0</td>\n",
       "      <td>35.0</td>\n",
       "    </tr>\n",
       "    <tr>\n",
       "      <th>dairy eggs</th>\n",
       "      <td>4505840</td>\n",
       "      <td>3019740</td>\n",
       "      <td>1486100</td>\n",
       "      <td>67.0</td>\n",
       "      <td>33.0</td>\n",
       "    </tr>\n",
       "    <tr>\n",
       "      <th>snacks</th>\n",
       "      <td>2403546</td>\n",
       "      <td>1380781</td>\n",
       "      <td>1022765</td>\n",
       "      <td>57.4</td>\n",
       "      <td>42.6</td>\n",
       "    </tr>\n",
       "    <tr>\n",
       "      <th>beverages</th>\n",
       "      <td>2244220</td>\n",
       "      <td>1467048</td>\n",
       "      <td>777172</td>\n",
       "      <td>65.4</td>\n",
       "      <td>34.6</td>\n",
       "    </tr>\n",
       "    <tr>\n",
       "      <th>frozen</th>\n",
       "      <td>1869974</td>\n",
       "      <td>1014600</td>\n",
       "      <td>855374</td>\n",
       "      <td>54.3</td>\n",
       "      <td>45.7</td>\n",
       "    </tr>\n",
       "  </tbody>\n",
       "</table>\n",
       "</div>"
      ],
      "text/plain": [
       "            qty_sold  reordered  not_reordered reordered_perc  \\\n",
       "produce      7911891    5146659        2765232           65.0   \n",
       "dairy eggs   4505840    3019740        1486100           67.0   \n",
       "snacks       2403546    1380781        1022765           57.4   \n",
       "beverages    2244220    1467048         777172           65.4   \n",
       "frozen       1869974    1014600         855374           54.3   \n",
       "\n",
       "           not_reordered_perc  \n",
       "produce                  35.0  \n",
       "dairy eggs               33.0  \n",
       "snacks                   42.6  \n",
       "beverages                34.6  \n",
       "frozen                   45.7  "
      ]
     },
     "execution_count": 8,
     "metadata": {},
     "output_type": "execute_result"
    }
   ],
   "source": [
    "# count how many products where sold per each department\n",
    "\n",
    "def groupby_dept(df):\n",
    "    df_groupby_dept = pd.DataFrame()\n",
    "\n",
    "    for dept in df.department.unique():\n",
    "        dept_count = df.query('department == @dept').shape[0]      \n",
    "        reordered_count =  df.query('department == @dept and reordered == 1').shape[0]      \n",
    "\n",
    "        df_groupby_dept.loc[dept,'qty_sold']           = dept_count\n",
    "        df_groupby_dept.loc[dept,'reordered']          = reordered_count\n",
    "        df_groupby_dept.loc[dept,'not_reordered']      = dept_count - reordered_count\n",
    "        df_groupby_dept.loc[dept,'reordered_perc']     = (reordered_count / dept_count) * 100\n",
    "        df_groupby_dept.loc[dept,'not_reordered_perc'] = ((dept_count - reordered_count) / dept_count * 100)                   \n",
    "\n",
    "\n",
    "    cols_int = ['qty_sold', 'reordered', 'not_reordered']\n",
    "    df_groupby_dept[cols_int] = df_groupby_dept[cols_int].astype('int32')\n",
    "\n",
    "    for col in ['not_reordered_perc','reordered_perc']:\n",
    "        df_groupby_dept[col] = df_groupby_dept[col].map('{:.1f}'.format)\n",
    "\n",
    "    df_groupby_dept = df_groupby_dept.sort_values('qty_sold', ascending=False)\n",
    "    return df_groupby_dept\n",
    "\n",
    "\n",
    "df_tr_dept = groupby_dept(unbalance)\n",
    "df_tr_dept.head()"
   ]
  },
  {
   "cell_type": "code",
   "execution_count": 9,
   "metadata": {},
   "outputs": [
    {
     "data": {
      "image/png": "[encoded data removed]",
      "text/plain": [
       "<Figure size 1080x720 with 1 Axes>"
      ]
     },
     "metadata": {
      "needs_background": "light"
     },
     "output_type": "display_data"
    }
   ],
   "source": [
    "data_to_plot = df_tr_dept[['reordered','not_reordered']].sort_values(by=[\"reordered\"]) \n",
    "\n",
    "data_to_plot.plot(kind='barh', stacked=True, color=['steelblue', 'red'], figsize=(15, 10), legend= 6)\n",
    "\n",
    "plt.ylabel('Departments')\n",
    "plt.xlabel('Perportion')\n",
    "plt.title('Proportion of Re-ordered Items for Each Department')\n",
    "plt.show()"
   ]
  },
  {
   "cell_type": "markdown",
   "metadata": {},
   "source": [
    "## Balance the Dataset by Department and Re-order Classification"
   ]
  },
  {
   "cell_type": "code",
   "execution_count": 20,
   "metadata": {},
   "outputs": [
    {
     "name": "stdout",
     "output_type": "stream",
     "text": [
      "Departmnet 'produce' with reordered as '0' was added to balanced dataframe.\n",
      "Departmnet 'produce' with reordered as '1' was added to balanced dataframe.\n",
      "Departmnet 'dairy eggs' with reordered as '0' was added to balanced dataframe.\n",
      "Departmnet 'dairy eggs' with reordered as '1' was added to balanced dataframe.\n",
      "Departmnet 'snacks' with reordered as '0' was added to balanced dataframe.\n",
      "Departmnet 'snacks' with reordered as '1' was added to balanced dataframe.\n",
      "Departmnet 'beverages' with reordered as '0' was added to balanced dataframe.\n",
      "Departmnet 'beverages' with reordered as '1' was added to balanced dataframe.\n",
      "Departmnet 'frozen' with reordered as '0' was added to balanced dataframe.\n",
      "Departmnet 'frozen' with reordered as '1' was added to balanced dataframe.\n",
      "Departmnet 'pantry' with reordered as '0' was added to balanced dataframe.\n",
      "Departmnet 'pantry' with reordered as '1' was added to balanced dataframe.\n",
      "Departmnet 'bakery' with reordered as '0' was added to balanced dataframe.\n",
      "Departmnet 'bakery' with reordered as '1' was added to balanced dataframe.\n",
      "Departmnet 'canned goods' with reordered as '0' was added to balanced dataframe.\n",
      "Departmnet 'canned goods' with reordered as '1' was added to balanced dataframe.\n",
      "Departmnet 'deli' with reordered as '0' was added to balanced dataframe.\n",
      "Departmnet 'deli' with reordered as '1' was added to balanced dataframe.\n",
      "Departmnet 'dry goods pasta' with reordered as '0' was added to balanced dataframe.\n",
      "Departmnet 'dry goods pasta' with reordered as '1' was added to balanced dataframe.\n",
      "Departmnet 'household' with reordered as '0' was added to balanced dataframe.\n",
      "Departmnet 'household' with reordered as '1' was added to balanced dataframe.\n",
      "Departmnet 'breakfast' with reordered as '0' was added to balanced dataframe.\n",
      "Departmnet 'breakfast' with reordered as '1' was added to balanced dataframe.\n",
      "Departmnet 'meat seafood' with reordered as '0' was added to balanced dataframe.\n",
      "Departmnet 'meat seafood' with reordered as '1' was added to balanced dataframe.\n",
      "Departmnet 'personal care' with reordered as '0' was added to balanced dataframe.\n",
      "Departmnet 'personal care' with reordered as '1' was added to balanced dataframe.\n",
      "Departmnet 'babies' with reordered as '0' was added to balanced dataframe.\n",
      "Departmnet 'babies' with reordered as '1' was added to balanced dataframe.\n",
      "Departmnet 'international' with reordered as '0' was added to balanced dataframe.\n",
      "Departmnet 'international' with reordered as '1' was added to balanced dataframe.\n",
      "Departmnet 'alcohol' with reordered as '0' was added to balanced dataframe.\n",
      "Departmnet 'alcohol' with reordered as '1' was added to balanced dataframe.\n",
      "Departmnet 'pets' with reordered as '0' was added to balanced dataframe.\n",
      "Departmnet 'pets' with reordered as '1' was added to balanced dataframe.\n",
      "Departmnet 'missing' with reordered as '0' was added to balanced dataframe.\n",
      "Departmnet 'missing' with reordered as '1' was added to balanced dataframe.\n",
      "Departmnet 'other' with reordered as '0' was added to balanced dataframe.\n",
      "Departmnet 'other' with reordered as '1' was added to balanced dataframe.\n",
      "Departmnet 'bulk' with reordered as '0' was added to balanced dataframe.\n",
      "Departmnet 'bulk' with reordered as '1' was added to balanced dataframe.\n",
      "(509880, 5)\n"
     ]
    },
    {
     "data": {
      "text/html": [
       "<div>\n",
       "<style scoped>\n",
       "    .dataframe tbody tr th:only-of-type {\n",
       "        vertical-align: middle;\n",
       "    }\n",
       "\n",
       "    .dataframe tbody tr th {\n",
       "        vertical-align: top;\n",
       "    }\n",
       "\n",
       "    .dataframe thead th {\n",
       "        text-align: right;\n",
       "    }\n",
       "</style>\n",
       "<table border=\"1\" class=\"dataframe\">\n",
       "  <thead>\n",
       "    <tr style=\"text-align: right;\">\n",
       "      <th></th>\n",
       "      <th>order_id</th>\n",
       "      <th>product_id</th>\n",
       "      <th>add_to_cart_order</th>\n",
       "      <th>reordered</th>\n",
       "      <th>department</th>\n",
       "    </tr>\n",
       "  </thead>\n",
       "  <tbody>\n",
       "    <tr>\n",
       "      <th>13662223</th>\n",
       "      <td>1046322</td>\n",
       "      <td>15143</td>\n",
       "      <td>6</td>\n",
       "      <td>0</td>\n",
       "      <td>produce</td>\n",
       "    </tr>\n",
       "    <tr>\n",
       "      <th>22646699</th>\n",
       "      <td>1358195</td>\n",
       "      <td>47626</td>\n",
       "      <td>10</td>\n",
       "      <td>0</td>\n",
       "      <td>produce</td>\n",
       "    </tr>\n",
       "    <tr>\n",
       "      <th>21127685</th>\n",
       "      <td>1518614</td>\n",
       "      <td>24964</td>\n",
       "      <td>5</td>\n",
       "      <td>0</td>\n",
       "      <td>produce</td>\n",
       "    </tr>\n",
       "    <tr>\n",
       "      <th>1215557</th>\n",
       "      <td>1993559</td>\n",
       "      <td>44683</td>\n",
       "      <td>18</td>\n",
       "      <td>0</td>\n",
       "      <td>produce</td>\n",
       "    </tr>\n",
       "    <tr>\n",
       "      <th>24117060</th>\n",
       "      <td>1414387</td>\n",
       "      <td>28842</td>\n",
       "      <td>20</td>\n",
       "      <td>0</td>\n",
       "      <td>produce</td>\n",
       "    </tr>\n",
       "  </tbody>\n",
       "</table>\n",
       "</div>"
      ],
      "text/plain": [
       "          order_id  product_id  add_to_cart_order  reordered department\n",
       "13662223   1046322       15143                  6          0    produce\n",
       "22646699   1358195       47626                 10          0    produce\n",
       "21127685   1518614       24964                  5          0    produce\n",
       "1215557    1993559       44683                 18          0    produce\n",
       "24117060   1414387       28842                 20          0    produce"
      ]
     },
     "execution_count": 20,
     "metadata": {},
     "output_type": "execute_result"
    }
   ],
   "source": [
    "least_records = min(df_tr_dept.reordered.min(), df_tr_dept.not_reordered.min())\n",
    "\n",
    "query_temp = \"department == '{departmnet}' and reordered == {classification}\"\n",
    "\n",
    "df_balanced = pd.DataFrame()\n",
    "for departmnet in df_tr_dept.index.tolist():\n",
    "    for classification in [0,1]:\n",
    "        query_temp = f\"department == '{departmnet}' and reordered == {classification}\"\n",
    "        df_dept_class = unbalance.query(query_temp).sample(least_records)\n",
    "        df_balanced = pd.concat([df_balanced, df_dept_class])\n",
    "        print(f\"Departmnet '{departmnet}' with reordered as '{classification}' was added to balanced dataframe.\")\n",
    "\n",
    "print(df_balanced.shape)\n",
    "df_balanced.head()"
   ]
  },
  {
   "cell_type": "code",
   "execution_count": 21,
   "metadata": {},
   "outputs": [
    {
     "name": "stdout",
     "output_type": "stream",
     "text": [
      "Verify that department has equal number of records with 50% reordered and 50% not-reordered\n",
      "\n"
     ]
    },
    {
     "data": {
      "image/png": "[encoded data removed]",
      "text/plain": [
       "<Figure size 1080x720 with 1 Axes>"
      ]
     },
     "metadata": {
      "needs_background": "light"
     },
     "output_type": "display_data"
    }
   ],
   "source": [
    "print('Verify that department has equal number of records with 50% reordered and 50% not-reordered\\n')\n",
    "\n",
    "\n",
    "balanced_dept_groupby = groupby_dept(df_balanced)\n",
    "\n",
    "data_to_plot = balanced_dept_groupby[['reordered','not_reordered']].sort_values(by=[\"reordered\"]) \n",
    "\n",
    "data_to_plot.plot(kind='barh', stacked=True, color=['steelblue', 'red'], figsize=(15, 10), legend= 6)\n",
    "\n",
    "plt.ylabel('Departments')\n",
    "plt.xlabel('Perportion')\n",
    "plt.title('Proportion of Re-ordered Items for Each Department')\n",
    "plt.show()"
   ]
  },
  {
   "cell_type": "code",
   "execution_count": 22,
   "metadata": {},
   "outputs": [
    {
     "data": {
      "text/plain": [
       "{'paths': ['s3://ads508team7/balanced/balanced.csv'], 'partitions_values': {}}"
      ]
     },
     "execution_count": 22,
     "metadata": {},
     "output_type": "execute_result"
    }
   ],
   "source": [
    "# save balanced data frame in s3 to be used for future notebooks\n",
    "save_to_path = f's3://{bucket}/balanced/balanced.csv'\n",
    "wr.s3.to_csv(df_balanced, save_to_path, index = False)"
   ]
  }
 ],
 "metadata": {
  "instance_type": "ml.m5.16xlarge",
  "kernelspec": {
   "display_name": "Python 3 (Data Science)",
   "language": "python",
   "name": "python3__SAGEMAKER_INTERNAL__arn:aws:sagemaker:us-east-1:081325390199:image/datascience-1.0"
  },
  "language_info": {
   "codemirror_mode": {
    "name": "ipython",
    "version": 3
   },
   "file_extension": ".py",
   "mimetype": "text/x-python",
   "name": "python",
   "nbconvert_exporter": "python",
   "pygments_lexer": "ipython3",
   "version": "3.7.10"
  }
 },
 "nbformat": 4,
 "nbformat_minor": 4
}
